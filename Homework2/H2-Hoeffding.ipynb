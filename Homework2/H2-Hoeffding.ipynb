{
 "cells": [
  {
   "cell_type": "code",
   "execution_count": 79,
   "metadata": {
    "collapsed": false
   },
   "outputs": [
    {
     "data": {
      "text/plain": [
       "NuGet package: MathNet.Numerics"
      ]
     },
     "execution_count": 79,
     "metadata": {},
     "output_type": "execute_result"
    },
    {
     "data": {
      "text/plain": [
       "Referenced Framework: System.Numerics"
      ]
     },
     "execution_count": 79,
     "metadata": {},
     "output_type": "execute_result"
    },
    {
     "data": {
      "text/plain": [
       "Referenced: d:\\app\\IfSharp\\Scripts\\packages\\MathNet.Numerics.3.13.1\\lib\\net40\\MathNet.Numerics.dll"
      ]
     },
     "execution_count": 79,
     "metadata": {},
     "output_type": "execute_result"
    },
    {
     "data": {
      "text/plain": [
       "NuGet package: MathNet.Numerics.FSharp"
      ]
     },
     "execution_count": 79,
     "metadata": {},
     "output_type": "execute_result"
    },
    {
     "data": {
      "text/plain": [
       "Referenced Framework: System.Numerics"
      ]
     },
     "execution_count": 79,
     "metadata": {},
     "output_type": "execute_result"
    },
    {
     "data": {
      "text/plain": [
       "Referenced: d:\\app\\IfSharp\\Scripts\\packages\\MathNet.Numerics.FSharp.3.13.1\\lib\\net40\\MathNet.Numerics.FSharp.dll"
      ]
     },
     "execution_count": 79,
     "metadata": {},
     "output_type": "execute_result"
    }
   ],
   "source": [
    "#N \"MathNet.Numerics\"\n",
    "#N \"MathNet.Numerics.FSharp\"\n",
    "#load \"FSCharting.fsx\"\n",
    "\n",
    "open System\n",
    "open MathNet.Numerics\n",
    "open MathNet.Numerics.LinearAlgebra.Double\n",
    "open MathNet.Numerics.Distributions\n",
    "open MathNet.Numerics.Statistics\n",
    "open FSharp.Charting"
   ]
  },
  {
   "cell_type": "code",
   "execution_count": 73,
   "metadata": {
    "collapsed": false
   },
   "outputs": [],
   "source": [
    "let N = 1000\n",
    "let all = 100000\n",
    "let r = new Random()\n",
    "\n",
    "let step() = \n",
    "    let run = [|for i in 1..N -> Vector.Build.Dense(10, fun i -> (float)(r.Next(2)))|]\n",
    "    let c1 = run.[0].Sum()/10.0\n",
    "    let c2 = run.[r.Next(N)].Sum()/10.0\n",
    "    let c3 = (run |> Array.map (fun(v) -> v.Sum()) |> Array.min)/10.0\n",
    "    (c1,c2,c3)\n",
    "    \n",
    "let mutable sum = 0.0\n",
    "let result = [for i in 1..all -> step()]\n",
    "\n",
    "let c1 = List.map (fun (c1,c2,c3) -> c1) result \n",
    "let c2 = List.map (fun (c1,c2,c3) -> c2) result \n",
    "let c3 = List.map (fun (c1,c2,c3) -> c3) result \n"
   ]
  },
  {
   "cell_type": "code",
   "execution_count": 74,
   "metadata": {
    "collapsed": false
   },
   "outputs": [
    {
     "data": {
      "image/png": "[encoded data removed]"
     },
     "execution_count": 74,
     "metadata": {},
     "output_type": "execute_result"
    }
   ],
   "source": [
    "Chart.Histogram(c1)"
   ]
  },
  {
   "cell_type": "code",
   "execution_count": 75,
   "metadata": {
    "collapsed": false
   },
   "outputs": [
    {
     "data": {
      "image/png": "[encoded data removed]"
     },
     "execution_count": 75,
     "metadata": {},
     "output_type": "execute_result"
    }
   ],
   "source": [
    "Chart.Histogram(c2)"
   ]
  },
  {
   "cell_type": "code",
   "execution_count": 81,
   "metadata": {
    "collapsed": false,
    "scrolled": true
   },
   "outputs": [
    {
     "data": {
      "image/png": "[encoded data removed]"
     },
     "execution_count": 81,
     "metadata": {},
     "output_type": "execute_result"
    }
   ],
   "source": [
    "Chart.Histogram(c3)"
   ]
  },
  {
   "cell_type": "code",
   "execution_count": 80,
   "metadata": {
    "collapsed": false
   },
   "outputs": [
    {
     "data": {
      "text/plain": [
       "0.037618"
      ]
     },
     "execution_count": 80,
     "metadata": {},
     "output_type": "execute_result"
    }
   ],
   "source": [
    "Statistics.Mean c3"
   ]
  }
 ],
 "metadata": {
  "anaconda-cloud": {},
  "kernelspec": {
   "display_name": "IFSharp",
   "language": "fsharp",
   "name": "ifsharp"
  },
  "language": "fsharp",
  "language_info": {
   "codemirror_mode": "",
   "file_extension": ".fs",
   "mimetype": "text/x-fsharp",
   "name": "fsharp",
   "nbconvert_exporter": "",
   "pygments_lexer": "",
   "version": "4.3.1.0"
  }
 },
 "nbformat": 4,
 "nbformat_minor": 0
}
